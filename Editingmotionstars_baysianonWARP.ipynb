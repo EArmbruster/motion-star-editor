{
 "cells": [
  {
   "cell_type": "code",
   "execution_count": 1,
   "metadata": {},
   "outputs": [],
   "source": [
    "import glob\n",
    "import pandas as pd"
   ]
  },
  {
   "cell_type": "code",
   "execution_count": 2,
   "metadata": {},
   "outputs": [
    {
     "data": {
      "text/plain": [
       "2439"
      ]
     },
     "execution_count": 2,
     "metadata": {},
     "output_type": "execute_result"
    }
   ],
   "source": [
    "# Get list of files\n",
    "files = glob.glob('motion/*.star')\n",
    "len(files)"
   ]
  },
  {
   "cell_type": "code",
   "execution_count": 3,
   "metadata": {},
   "outputs": [],
   "source": [
    "# Text to be replaced in each file. to find : to replace. Needs new_motion folder in same directory as motion folder that contains the stars\n",
    "replacements = {\n",
    "    'findme': 'replacewme',\n",
    "    'X': 'Z', #can do multiple edits at once\n",
    "}"
   ]
  },
  {
   "cell_type": "code",
   "execution_count": 4,
   "metadata": {},
   "outputs": [
    {
     "data": {
      "text/plain": [
       "3    2439\n",
       "dtype: int64"
      ]
     },
     "execution_count": 4,
     "metadata": {},
     "output_type": "execute_result"
    }
   ],
   "source": [
    "replacement_counts = []\n",
    "\n",
    "# Loop through all files\n",
    "for file in files:\n",
    "    # Read files\n",
    "    with open(file, 'r') as f:\n",
    "        contents = f.read()\n",
    "        new_contents = contents\n",
    "        \n",
    "        # Loop through all possible replacements\n",
    "        for string, new_string in replacements.items():\n",
    "            # Replace strings\n",
    "            new_contents = new_contents.replace(string, new_string)\n",
    "            \n",
    "            # Get counts of how often each string is in the old and new files\n",
    "            replacement_counts.append([\n",
    "                file,\n",
    "                string,\n",
    "                contents.count(string),\n",
    "                new_contents.count(string),\n",
    "            ])\n",
    "            \n",
    "    # Write new files to other folder\n",
    "    new_file = 'new_'+file\n",
    "    \n",
    "    # Write files with new contents\n",
    "    with open(new_file, 'w') as f:\n",
    "        f.write(new_contents)\n",
    "\n",
    "# Verify that every file has 2 instances of 1 of the strings\n",
    "# and 0 instances of them after the changes were made.\n",
    "# This means we should have 6075 instances of 2.\n",
    "df = (\n",
    "    pd.DataFrame(\n",
    "        data=replacement_counts,\n",
    "        columns=[\"file\", \"string\", \"count_old\", \"count_new\"])\n",
    "    .set_index([\"file\", \"string\"])\n",
    "    .unstack(level=[\"string\"], fill_value=0)\n",
    "    .sum(axis=1)\n",
    ")\n",
    "df.value_counts()"
   ]
  },
  {
   "cell_type": "code",
   "execution_count": null,
   "metadata": {},
   "outputs": [],
   "source": []
  }
 ],
 "metadata": {
  "kernelspec": {
   "display_name": "Python 3",
   "language": "python",
   "name": "python3"
  },
  "language_info": {
   "codemirror_mode": {
    "name": "ipython",
    "version": 3
   },
   "file_extension": ".py",
   "mimetype": "text/x-python",
   "name": "python",
   "nbconvert_exporter": "python",
   "pygments_lexer": "ipython3",
   "version": "3.7.2"
  }
 },
 "nbformat": 4,
 "nbformat_minor": 2
}
